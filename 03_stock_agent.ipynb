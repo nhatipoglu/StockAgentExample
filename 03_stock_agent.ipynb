{
 "cells": [
  {
   "cell_type": "code",
   "execution_count": 156,
   "metadata": {
    "ExecuteTime": {
     "end_time": "2025-04-06T19:53:02.212025Z",
     "start_time": "2025-04-06T19:53:02.206991Z"
    },
    "id": "ek4t3vmAH2Zi"
   },
   "outputs": [],
   "source": [
    "from langchain.agents import initialize_agent, Tool\n",
    "from langchain.agents.agent_types import AgentType\n",
    "from langchain_openai import ChatOpenAI\n",
    "from langchain.tools import tool\n",
    "import matplotlib.pyplot as plt\n",
    "import pandas as pd\n",
    "import numpy as np\n",
    "from scipy.stats import norm\n",
    "import joblib\n",
    "from prophet import Prophet\n",
    "from sklearn.preprocessing import MinMaxScaler\n",
    "from datetime import datetime, timedelta\n",
    "\n",
    "from IPython.display import Markdown, display\n",
    "import pickle\n",
    "import os\n",
    "import json\n",
    "import warnings\n",
    "\n",
    "warnings.filterwarnings(\"ignore\")"
   ]
  },
  {
   "cell_type": "code",
   "execution_count": null,
   "metadata": {
    "ExecuteTime": {
     "end_time": "2025-04-06T19:46:07.659584Z",
     "start_time": "2025-04-06T19:46:07.655542Z"
    },
    "id": "93cZn4-OIQ61"
   },
   "outputs": [],
   "source": [
    "OPENAI_API_KEY = \"\"\n",
    "LLM_MODEL_NAME = 'gpt-4o-mini'"
   ]
  },
  {
   "cell_type": "code",
   "execution_count": 143,
   "metadata": {
    "ExecuteTime": {
     "end_time": "2025-04-06T19:46:07.712546Z",
     "start_time": "2025-04-06T19:46:07.707448Z"
    },
    "id": "-Px2om_eH_Qb"
   },
   "outputs": [],
   "source": [
    "RAW_DATA_PATH = \"/home/nuh/PycharmProjects/StockAgent/data\"\n",
    "DATA_PATH = \"/home/nuh/PycharmProjects/StockAgent/dev_v_04/data\"\n",
    "MODEL_PATH = \"/home/nuh/PycharmProjects/StockAgent/dev_v_04/models\""
   ]
  },
  {
   "cell_type": "markdown",
   "metadata": {
    "id": "8kUkewqRKCPb"
   },
   "source": [
    "# Agent Tools"
   ]
  },
  {
   "cell_type": "markdown",
   "metadata": {},
   "source": [
    "## Propmt Parametreleri"
   ]
  },
  {
   "cell_type": "code",
   "execution_count": 174,
   "metadata": {
    "ExecuteTime": {
     "end_time": "2025-04-06T20:22:20.510961Z",
     "start_time": "2025-04-06T20:22:20.508404Z"
    }
   },
   "outputs": [],
   "source": [
    "parameters = {\n",
    "    \"product_id\": 7,\n",
    "    \"mevcut_stok\": 22,\n",
    "    \"teslim_suresi\": 7,\n",
    "    \"siparis_maliyeti\": 50,\n",
    "    \"stok_tutma_maliyeti\": 5,\n",
    "    \"servis_seviyesi\": 0.95,\n",
    "    \"stockout_cost\": 20,\n",
    "    \"start_date\": \"2025-05-01\",\n",
    "    \"end_date\": \"2025-05-07\"\n",
    "}"
   ]
  },
  {
   "cell_type": "markdown",
   "metadata": {},
   "source": [
    "## Propmt Paramtreler"
   ]
  },
  {
   "cell_type": "markdown",
   "metadata": {},
   "source": [
    "# Prophet Forecast Tool"
   ]
  },
  {
   "cell_type": "code",
   "execution_count": 145,
   "metadata": {
    "ExecuteTime": {
     "end_time": "2025-04-06T19:46:07.809047Z",
     "start_time": "2025-04-06T19:46:07.804156Z"
    }
   },
   "outputs": [],
   "source": [
    "def forecast_prophet_total(model_path: str, product_df_path: str, product_id: int, start_date: str,\n",
    "                           end_date: str) -> pd.DataFrame:\n",
    "    \"\"\"\n",
    "    Prophet ile varyant bazlı forecast. Her varyant için tek model kullanır.\n",
    "    Sadece gelecekteki zaman ve varyant bilgileri gerekir.\n",
    "    \"\"\"\n",
    "    # 1. Prophet modelini yükle\n",
    "    model = joblib.load(model_path)\n",
    "\n",
    "    # 2. Ürün varyantlarını yükle\n",
    "    product_df = pd.read_csv(product_df_path)\n",
    "    df = product_df[product_df[\"product_id\"] == product_id].copy()\n",
    "\n",
    "    # 3. Gelecekteki tarihleri oluştur\n",
    "    future_dates = pd.date_range(start=start_date, end=end_date)\n",
    "    forecast_rows = []\n",
    "\n",
    "    for date in future_dates:\n",
    "        for _, row in df.iterrows():\n",
    "            forecast_rows.append({\n",
    "                \"ds\": date,\n",
    "                \"product_id\": product_id,\n",
    "                \"color\": row[\"color\"],\n",
    "                \"size\": row[\"size\"],\n",
    "                \"is_campaign\": 0,\n",
    "                \"discount\": 0.0\n",
    "            })\n",
    "\n",
    "    future_df = pd.DataFrame(forecast_rows)\n",
    "\n",
    "    # 4. Prophet tahmini\n",
    "    preds = model.predict(future_df[[\"ds\", \"is_campaign\", \"discount\"]])\n",
    "    future_df[\"y_pred\"] = preds[\"yhat\"]\n",
    "    future_df[\"model\"] = \"Prophet\"\n",
    "\n",
    "    return future_df[[\"ds\", \"product_id\", \"color\", \"size\", \"y_pred\", \"model\"]]\n"
   ]
  },
  {
   "cell_type": "markdown",
   "metadata": {},
   "source": [
    "# XGBoost Forecast Tool"
   ]
  },
  {
   "cell_type": "code",
   "execution_count": 146,
   "metadata": {
    "ExecuteTime": {
     "end_time": "2025-04-06T19:46:07.866645Z",
     "start_time": "2025-04-06T19:46:07.855151Z"
    }
   },
   "outputs": [],
   "source": [
    "def forecast_xgboost_total(product_id: int, model_path: str, product_df_path: str, start_date: str,\n",
    "                           end_date: str) -> pd.DataFrame:\n",
    "    \"\"\"\n",
    "    Gelecekteki belirli bir tarih aralığı için XGBoost ile varyant bazlı tahmin üretir.\n",
    "    Eğitimde kullanılan tüm feature'ları içerir.\n",
    "    \"\"\"\n",
    "\n",
    "    # 1. Modeli yükle\n",
    "    model = joblib.load(model_path)\n",
    "\n",
    "    # 2. Ürün varyantlarını yükle\n",
    "    product_df = pd.read_csv(product_df_path)\n",
    "    df = product_df[product_df[\"product_id\"] == product_id].copy()\n",
    "\n",
    "    # Gereken alanlar varsa ekle\n",
    "    df[\"channel\"] = \"Toplam\"\n",
    "    df[\"type\"] = \"Standart\"\n",
    "\n",
    "    # Kategorik encoding\n",
    "    for col in [\"color\", \"size\", \"channel\", \"category\", \"subcategory\", \"type\"]:\n",
    "        df[col] = df[col].astype(\"category\").cat.codes\n",
    "\n",
    "    # 3. Geleceğe ait tarih aralığını oluştur\n",
    "    forecast_rows = []\n",
    "    dates = pd.date_range(start=start_date, end=end_date)\n",
    "\n",
    "    for date in dates:\n",
    "        dow = date.dayofweek\n",
    "        month = date.month\n",
    "        week = date.isocalendar().week\n",
    "\n",
    "        for _, row in df.iterrows():\n",
    "            forecast_rows.append({\n",
    "                \"color\": row[\"color\"],\n",
    "                \"size\": row[\"size\"],\n",
    "                \"channel\": row[\"channel\"],\n",
    "                \"category\": row[\"category\"],\n",
    "                \"subcategory\": row[\"subcategory\"],\n",
    "                \"type\": row[\"type\"],\n",
    "                \"is_campaign\": 0,\n",
    "                \"discount\": 0.0,\n",
    "                \"dayofweek_sin\": np.sin(2 * np.pi * dow / 7),\n",
    "                \"dayofweek_cos\": np.cos(2 * np.pi * dow / 7),\n",
    "                \"month_sin\": np.sin(2 * np.pi * month / 12),\n",
    "                \"month_cos\": np.cos(2 * np.pi * month / 12),\n",
    "                \"week_sin\": np.sin(2 * np.pi * week / 52),\n",
    "                \"week_cos\": np.cos(2 * np.pi * week / 52),\n",
    "                \"ds\": date,\n",
    "                \"product_id\": product_id,\n",
    "                \"color_str\": row[\"color\"],  # optional: for output\n",
    "                \"size_str\": row[\"size\"]\n",
    "            })\n",
    "\n",
    "    input_df = pd.DataFrame(forecast_rows)\n",
    "\n",
    "    # 4. Tahmin yap\n",
    "    X = input_df[[\n",
    "        \"color\", \"size\", \"channel\", \"category\", \"subcategory\", \"type\",\n",
    "        \"is_campaign\", \"discount\",\n",
    "        \"dayofweek_sin\", \"dayofweek_cos\", \"month_sin\", \"month_cos\", \"week_sin\", \"week_cos\"\n",
    "    ]]\n",
    "\n",
    "    input_df[\"y_pred\"] = model.predict(X)\n",
    "    input_df[\"model\"] = \"XGBoost\"\n",
    "\n",
    "    return input_df[[\"ds\", \"product_id\", \"color_str\", \"size_str\", \"y_pred\", \"model\"]].rename(\n",
    "        columns={\"color_str\": \"color\", \"size_str\": \"size\"}\n",
    "    )\n"
   ]
  },
  {
   "cell_type": "markdown",
   "metadata": {},
   "source": [
    "# Stok Hesaplayıcı"
   ]
  },
  {
   "cell_type": "code",
   "execution_count": 164,
   "metadata": {
    "ExecuteTime": {
     "end_time": "2025-04-06T20:16:10.711695Z",
     "start_time": "2025-04-06T20:16:10.706001Z"
    }
   },
   "outputs": [],
   "source": [
    "def calculate_stock_values(df, servis_seviyesi, teslim_suresi, mevcut_stok, siparis_maliyeti, stok_tutma_maliyeti):\n",
    "    preds = np.array(df[\"y_pred\"])\n",
    "    mean = np.mean(preds)\n",
    "    std = np.std(preds)\n",
    "    z = norm.ppf(servis_seviyesi)\n",
    "    SS = z * std * np.sqrt(teslim_suresi)\n",
    "    ROP = mean * teslim_suresi + SS\n",
    "    EOQ = np.sqrt((2 * np.sum(preds) * 12 * siparis_maliyeti) / stok_tutma_maliyeti)\n",
    "    order_qty = max(ROP - mevcut_stok, 0)\n",
    "\n",
    "    return {\n",
    "        \"mean\": mean,\n",
    "        \"std\": std,\n",
    "        \"SS\": SS,\n",
    "        \"ROP\": ROP,\n",
    "        \"EOQ\": EOQ,\n",
    "        \"SiparisMiktari\": order_qty\n",
    "    }\n"
   ]
  },
  {
   "cell_type": "code",
   "execution_count": 165,
   "metadata": {
    "ExecuteTime": {
     "end_time": "2025-04-06T20:16:13.628337Z",
     "start_time": "2025-04-06T20:16:13.626035Z"
    }
   },
   "outputs": [],
   "source": [
    "def calculate_total_cost(ROP, EOQ, mevcut_stok, stok_tutma_maliyeti, siparis_maliyeti, stockout_cost):\n",
    "    \"\"\"\n",
    "    ROP ve EOQ değerlerine göre toplam maliyet hesabı yapar.\n",
    "    - Shortage Cost: Stoksuz kalma miktarı * birim ceza\n",
    "    - Holding Cost: Ortalama stok seviyesi * stok tutma maliyeti\n",
    "    - Ordering Cost: Sipariş başına sabit maliyet\n",
    "    \"\"\"\n",
    "    shortage_qty = max(0, ROP - mevcut_stok)\n",
    "    shortage_cost = stockout_cost * shortage_qty\n",
    "    holding_cost = (EOQ / 2) * stok_tutma_maliyeti\n",
    "    total_cost = shortage_cost + holding_cost + siparis_maliyeti\n",
    "\n",
    "    return {\n",
    "        \"shortage_qty\": shortage_qty,\n",
    "        \"shortage_cost\": shortage_cost,\n",
    "        \"holding_cost\": holding_cost,\n",
    "        \"ordering_cost\": siparis_maliyeti,\n",
    "        \"total_cost\": total_cost\n",
    "    }\n",
    "\n"
   ]
  },
  {
   "cell_type": "code",
   "execution_count": 166,
   "metadata": {
    "ExecuteTime": {
     "end_time": "2025-04-06T20:16:16.475972Z",
     "start_time": "2025-04-06T20:16:16.471655Z"
    }
   },
   "outputs": [],
   "source": [
    "def calculate_variant_risk_scores(df_forecast: pd.DataFrame, mevcut_stok: int, teslim_suresi: int):\n",
    "    results = []\n",
    "    grouped = df_forecast.groupby([\"color\", \"size\"])\n",
    "    for (color, size), group in grouped:\n",
    "        mean = group[\"y_pred\"].mean()\n",
    "        std = group[\"y_pred\"].std()\n",
    "        z = norm.ppf(0.95)\n",
    "        ss = z * std * np.sqrt(teslim_suresi)\n",
    "        rop = mean * teslim_suresi + ss\n",
    "        shortage_risk = max(0, rop - mevcut_stok)\n",
    "\n",
    "        max_mean = df_forecast[\"y_pred\"].max()\n",
    "        max_std = df_forecast[\"y_pred\"].std()\n",
    "        normalized_mean = mean / max_mean if max_mean > 0 else 0\n",
    "        normalized_std = std / max_std if max_std > 0 else 0\n",
    "        normalized_shortage = shortage_risk / rop if rop > 0 else 0\n",
    "\n",
    "        risk_score = 0.4 * normalized_mean + 0.3 * normalized_std + 0.3 * normalized_shortage\n",
    "        risk_level = (\n",
    "            \"Yüksek Risk\" if risk_score > 0.7\n",
    "            else \"Orta Risk\" if risk_score > 0.3\n",
    "            else \"Düşük Risk\"\n",
    "        )\n",
    "\n",
    "        results.append({\n",
    "            \"color\": color,\n",
    "            \"size\": size,\n",
    "            \"mean\": mean,\n",
    "            \"std\": std,\n",
    "            \"rop\": rop,\n",
    "            \"shortage_risk\": shortage_risk,\n",
    "            \"risk_score\": round(risk_score, 3),\n",
    "            \"risk_level\": risk_level\n",
    "        })\n",
    "    return pd.DataFrame(results)\n"
   ]
  },
  {
   "cell_type": "code",
   "execution_count": 148,
   "metadata": {
    "ExecuteTime": {
     "end_time": "2025-04-06T19:46:07.960533Z",
     "start_time": "2025-04-06T19:46:07.957707Z"
    }
   },
   "outputs": [],
   "source": [
    "def show_agent_output_markdown(output_text: str):\n",
    "    \"\"\"\n",
    "    LangChain agent çıktısını markdown olarak hücreye bastırır.\n",
    "    \"\"\"\n",
    "    display(Markdown(output_text))"
   ]
  },
  {
   "cell_type": "markdown",
   "metadata": {},
   "source": [
    "## Agent Tools"
   ]
  },
  {
   "cell_type": "code",
   "execution_count": 167,
   "metadata": {
    "ExecuteTime": {
     "end_time": "2025-04-06T20:16:21.644561Z",
     "start_time": "2025-04-06T20:16:21.578469Z"
    }
   },
   "outputs": [],
   "source": [
    "df_prophet_forecast = forecast_prophet_total(\n",
    "    model_path=f\"{MODEL_PATH}/prophet/prophet_model_product_{parameters[\"product_id\"]}.pkl\",\n",
    "    product_df_path=f\"{DATA_PATH}/products_with_variants.csv\",\n",
    "    product_id=parameters[\"product_id\"],\n",
    "    start_date=parameters[\"start_date\"],\n",
    "    end_date=parameters[\"end_date\"]\n",
    ")\n",
    "\n",
    "df_prophet_forecast_dict = df_prophet_forecast.to_dict(orient=\"records\")"
   ]
  },
  {
   "cell_type": "code",
   "execution_count": 168,
   "metadata": {
    "ExecuteTime": {
     "end_time": "2025-04-06T20:16:23.754888Z",
     "start_time": "2025-04-06T20:16:23.715026Z"
    }
   },
   "outputs": [],
   "source": [
    "df_xgboost_forecast = forecast_xgboost_total(\n",
    "    product_id=parameters[\"product_id\"],\n",
    "    model_path=f\"{MODEL_PATH}/sklearn/xgboost_model_product_{parameters[\"product_id\"]}.pkl\",\n",
    "    product_df_path=f\"{DATA_PATH}/products_with_variants.csv\",\n",
    "    start_date=parameters[\"start_date\"],\n",
    "    end_date=parameters[\"end_date\"]\n",
    ")\n",
    "\n",
    "df_xgboost_forecast_dict = df_xgboost_forecast.to_dict(orient=\"records\")\n"
   ]
  },
  {
   "cell_type": "code",
   "execution_count": 177,
   "metadata": {
    "ExecuteTime": {
     "end_time": "2025-04-06T20:24:34.414393Z",
     "start_time": "2025-04-06T20:24:34.399079Z"
    }
   },
   "outputs": [],
   "source": [
    "stock_calculation_prophet = calculate_stock_values(df_prophet_forecast, parameters[\"servis_seviyesi\"],\n",
    "                                                   parameters[\"teslim_suresi\"],\n",
    "                                                   parameters[\"mevcut_stok\"],\n",
    "                                                   parameters[\"siparis_maliyeti\"],\n",
    "                                                   parameters[\"stok_tutma_maliyeti\"])\n",
    "stock_calculation_xgboost = calculate_stock_values(df_xgboost_forecast, parameters[\"servis_seviyesi\"],\n",
    "                                                   parameters[\"teslim_suresi\"],\n",
    "                                                   parameters[\"mevcut_stok\"],\n",
    "                                                   parameters[\"siparis_maliyeti\"],\n",
    "                                                   parameters[\"stok_tutma_maliyeti\"])\n",
    "\n",
    "variant_risk_prophet_df = calculate_variant_risk_scores(df_prophet_forecast, parameters[\"mevcut_stok\"],\n",
    "                                                        parameters[\"teslim_suresi\"])\n",
    "variant_risk_xgb_df = calculate_variant_risk_scores(df_xgboost_forecast, parameters[\"mevcut_stok\"],\n",
    "                                                    parameters[\"teslim_suresi\"])\n",
    "\n"
   ]
  },
  {
   "cell_type": "code",
   "execution_count": 176,
   "metadata": {
    "ExecuteTime": {
     "end_time": "2025-04-06T20:22:40.065311Z",
     "start_time": "2025-04-06T20:22:40.061325Z"
    }
   },
   "outputs": [],
   "source": [
    "costs_prophet = calculate_total_cost(\n",
    "    ROP=stock_calculation_prophet[\"ROP\"],\n",
    "    EOQ=stock_calculation_prophet[\"EOQ\"],\n",
    "    mevcut_stok=parameters[\"mevcut_stok\"],\n",
    "    stok_tutma_maliyeti=parameters[\"stok_tutma_maliyeti\"],\n",
    "    siparis_maliyeti=parameters[\"siparis_maliyeti\"],\n",
    "    stockout_cost=parameters[\"stockout_cost\"]\n",
    ")\n",
    "\n",
    "costs_xgboost = calculate_total_cost(\n",
    "    ROP=stock_calculation_xgboost[\"ROP\"],\n",
    "    EOQ=stock_calculation_xgboost[\"EOQ\"],\n",
    "    mevcut_stok=parameters[\"mevcut_stok\"],\n",
    "    stok_tutma_maliyeti=parameters[\"stok_tutma_maliyeti\"],\n",
    "    siparis_maliyeti=parameters[\"siparis_maliyeti\"],\n",
    "    stockout_cost=parameters[\"stockout_cost\"]\n",
    ")\n"
   ]
  },
  {
   "cell_type": "markdown",
   "metadata": {},
   "source": [
    "# LLM Nihayi Sipariş Kararı"
   ]
  },
  {
   "cell_type": "code",
   "execution_count": 152,
   "metadata": {
    "ExecuteTime": {
     "end_time": "2025-04-06T19:46:08.296651Z",
     "start_time": "2025-04-06T19:46:08.218181Z"
    }
   },
   "outputs": [],
   "source": [
    "llm = ChatOpenAI(\n",
    "    model_name=LLM_MODEL_NAME,\n",
    "    temperature=0,\n",
    "    openai_api_key=OPENAI_API_KEY,\n",
    ")"
   ]
  },
  {
   "cell_type": "code",
   "execution_count": 184,
   "metadata": {
    "ExecuteTime": {
     "end_time": "2025-04-06T20:31:55.204825Z",
     "start_time": "2025-04-06T20:31:55.196149Z"
    }
   },
   "outputs": [],
   "source": [
    "prompt= f\"\"\"\n",
    "Ürün ID: {parameters[\"product_id\"]}\n",
    "Tahmin edilen tarih aralığı: {parameters[\"start_date\"]} - {parameters[\"end_date\"]}\n",
    "\n",
    "İşletme Parametreleri:\n",
    "- Mevcut stok: {parameters[\"mevcut_stok\"]}\n",
    "- Teslim süresi: {parameters[\"teslim_suresi\"]} gün\n",
    "- Servis seviyesi: %{parameters[\"servis_seviyesi\"] * 100}\n",
    "- Sipariş maliyeti: {parameters[\"siparis_maliyeti\"]} TL\n",
    "- Stok tutma maliyeti: {parameters[\"stok_tutma_maliyeti\"]} TL\n",
    "- Stoksuz kalma maliyeti (stockout cost): {parameters[\"stockout_cost\"]} TL\n",
    "\n",
    "Prophet modeli çıktısı:\n",
    "Model Tahminleri: {df_prophet_forecast_dict}\n",
    "Stok Hesaplamaları: {stock_calculation_prophet}\n",
    "Varyant Risk Skorları: {variant_risk_prophet_df.to_dict(orient='records')}\n",
    "Toplam Maliyet Analizi: {costs_prophet}\n",
    "\n",
    "XGBoost modeli çıktısı:\n",
    "Model Tahminleri: {df_xgboost_forecast_dict}\n",
    "Stok Hesaplamaları: {stock_calculation_xgboost}\n",
    "Varyant Risk Skorları: {variant_risk_xgb_df.to_dict(orient='records')}\n",
    "Toplam Maliyet Analizi: {costs_xgboost}\n",
    "\n",
    "Lütfen aşağıdaki konuları analiz et:\n",
    "\n",
    "1. Prophet ve XGBoost modellerinin genel tahmin ortalaması ve varyansı nedir? Hangi model daha istikrarlı ve güvenilir?\n",
    "2. Her modelin EOQ, ROP ve SS değerlerini karşılaştır. Hangisi daha uygun sipariş stratejisi sunuyor?\n",
    "3. Toplam maliyet analizine göre hangi model işletmeye daha az maliyet çıkarıyor? (Stok tutma, sipariş ve stoksuz kalma maliyetleri dahil)\n",
    "4. Varyant bazlı risk skorlarını incele. Yüksek riskli varyantlar hangileri ve nasıl önceliklendirilmelidir?\n",
    "5. Sipariş önerisi:\n",
    "   - Toplam kaç adet sipariş verilmelidir?\n",
    "   - Hangi varyantlara öncelik verilmeli? (Risk skorlarına göre grupla)\n",
    "6. Tüm analizleri göz önünde bulundurarak nihai model seçimini yap.\n",
    "7. Kararını **açık ve gerekçeli** şekilde sun:\n",
    "   - Servis seviyesi, stok-out riski, maliyetler, varyant dengesi ve operasyonel uygulanabilirlik açısından değerlendir.\n",
    "   - Nihai sipariş miktarını belirt ve işletmeye önerini ilet.\n",
    "\"\"\"\n"
   ]
  },
  {
   "cell_type": "code",
   "execution_count": 185,
   "metadata": {
    "ExecuteTime": {
     "end_time": "2025-04-06T20:32:15.412427Z",
     "start_time": "2025-04-06T20:31:58.249651Z"
    }
   },
   "outputs": [],
   "source": [
    "response = llm.invoke(prompt)\n"
   ]
  },
  {
   "cell_type": "code",
   "execution_count": 186,
   "metadata": {
    "ExecuteTime": {
     "end_time": "2025-04-06T20:32:17.702962Z",
     "start_time": "2025-04-06T20:32:17.695569Z"
    }
   },
   "outputs": [
    {
     "data": {
      "text/markdown": [
       "### 1. Model Tahmin Ortalaması ve Varyansı\n",
       "**Prophet Modeli:**\n",
       "- Ortalama Tahmin: 9.59\n",
       "- Varyans: 1.56\n",
       "\n",
       "**XGBoost Modeli:**\n",
       "- Ortalama Tahmin: 11.65\n",
       "- Varyans: 2.63\n",
       "\n",
       "**Analiz:**\n",
       "- Prophet modeli daha düşük bir ortalama tahmin sunarken, XGBoost modeli daha yüksek bir ortalama tahmin sunmaktadır. Varyans açısından XGBoost'un daha yüksek bir varyansa sahip olması, tahminlerinin daha değişken olduğunu gösterir. Bu nedenle, Prophet modeli daha istikrarlı ve güvenilir bir tahmin sunmaktadır.\n",
       "\n",
       "### 2. EOQ, ROP ve SS Değerleri Karşılaştırması\n",
       "**Prophet Modeli:**\n",
       "- EOQ: 380.75\n",
       "- ROP: 73.90\n",
       "- SS: 6.78\n",
       "\n",
       "**XGBoost Modeli:**\n",
       "- EOQ: 419.76\n",
       "- ROP: 93.01\n",
       "- SS: 11.44\n",
       "\n",
       "**Analiz:**\n",
       "- XGBoost modeli daha yüksek EOQ, ROP ve SS değerlerine sahiptir. Bu, XGBoost'un daha büyük sipariş miktarları ve daha yüksek güvenlik stokları önerdiği anlamına gelir. Ancak, bu durum daha fazla maliyet anlamına gelebilir. Prophet modeli daha düşük değerler sunarak daha az riskli bir sipariş stratejisi sunmaktadır.\n",
       "\n",
       "### 3. Toplam Maliyet Analizi\n",
       "**Prophet Modeli:**\n",
       "- Toplam Maliyet: 2039.87 TL\n",
       "\n",
       "**XGBoost Modeli:**\n",
       "- Toplam Maliyet: 2519.71 TL\n",
       "\n",
       "**Analiz:**\n",
       "- Prophet modeli, toplam maliyet açısından daha avantajlıdır. Daha düşük maliyetler, işletmenin karlılığını artırır.\n",
       "\n",
       "### 4. Varyant Bazlı Risk Skorları\n",
       "**Yüksek Riskli Varyantlar:**\n",
       "- Tüm varyantlar (Kırmızı, Mavi, Siyah) için risk skorları 0.855 ile 0.884 arasında değişmektedir. Bu, tüm varyantların yüksek risk taşıdığını göstermektedir.\n",
       "\n",
       "**Önceliklendirme:**\n",
       "- Tüm varyantlar yüksek risk taşıdığı için, sipariş önceliği verilmesi gereken varyantlar arasında ayrım yapmak zordur. Ancak, XGBoost modelinin tahminleri daha yüksek olduğu için, bu modelin tahminlerine göre sipariş verilmesi önerilebilir.\n",
       "\n",
       "### 5. Sipariş Önerisi\n",
       "- **Toplam Sipariş Miktarı:** \n",
       "  - Prophet: 51.90\n",
       "  - XGBoost: 71.01\n",
       "- **Öncelik Verilecek Varyantlar:**\n",
       "  - Tüm varyantlar yüksek risk taşıdığı için, sipariş miktarları eşit dağıtılabilir. Ancak, XGBoost modelinin tahminleri dikkate alınarak, her varyant için önerilen sipariş miktarları artırılabilir.\n",
       "\n",
       "### 6. Nihai Model Seçimi\n",
       "**Seçim: Prophet Modeli**\n",
       "- Prophet modeli, daha düşük maliyetler, daha istikrarlı tahminler ve daha az risk sunmaktadır. Ayrıca, daha düşük EOQ ve ROP değerleri ile daha az sermaye bağlamaktadır.\n",
       "\n",
       "### 7. Nihai Karar ve Öneri\n",
       "- **Servis Seviyesi:** %95, bu da müşteri memnuniyetini artırır.\n",
       "- **Stok-out Riski:** Prophet modeli ile daha düşük.\n",
       "- **Maliyetler:** Prophet modeli daha düşük maliyet sunuyor.\n",
       "- **Varyant Dengesi:** Tüm varyantlar yüksek risk taşıyor, bu nedenle eşit dağıtım önerilebilir.\n",
       "- **Operasyonel Uygulanabilirlik:** Prophet modeli daha az risk ve maliyet sunduğu için daha uygulanabilir.\n",
       "\n",
       "**Nihai Sipariş Miktarı:** 51 adet (her varyant için eşit dağıtım önerilir).\n",
       "\n",
       "**Öneri:** Prophet modeline dayanarak, toplam 51 adet sipariş verilmesi ve tüm varyantlar arasında eşit dağıtım yapılması önerilmektedir. Bu, maliyetleri minimize ederken, müşteri memnuniyetini de artıracaktır."
      ],
      "text/plain": [
       "<IPython.core.display.Markdown object>"
      ]
     },
     "metadata": {},
     "output_type": "display_data"
    }
   ],
   "source": [
    "output_text = response.content\n",
    "\n",
    "show_agent_output_markdown(output_text=output_text)"
   ]
  },
  {
   "cell_type": "code",
   "execution_count": null,
   "metadata": {},
   "outputs": [],
   "source": []
  }
 ],
 "metadata": {
  "colab": {
   "authorship_tag": "ABX9TyNeJbpIfMRavv8DwjzBdNMd",
   "mount_file_id": "13oXDfH4dwyzGmp1xk5j5AYUUF0jzNJbK",
   "private_outputs": true,
   "provenance": []
  },
  "kernelspec": {
   "display_name": ".venv",
   "language": "python",
   "name": "python3"
  },
  "language_info": {
   "codemirror_mode": {
    "name": "ipython",
    "version": 3
   },
   "file_extension": ".py",
   "mimetype": "text/x-python",
   "name": "python",
   "nbconvert_exporter": "python",
   "pygments_lexer": "ipython3",
   "version": "3.12.9"
  }
 },
 "nbformat": 4,
 "nbformat_minor": 0
}
